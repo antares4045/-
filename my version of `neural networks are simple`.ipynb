{
 "cells": [
  {
   "cell_type": "markdown",
   "metadata": {},
   "source": [
    "Для начала надо выяснить, что такое нейрон."
   ]
  },
  {
   "cell_type": "markdown",
   "metadata": {},
   "source": [
    "![тут должна была быть картинка с нейроном, но что-то пошло не так](https://cdn.thinglink.me/api/image/715269054151000064/1240/10/scaletowidth \"нейрон\")"
   ]
  },
  {
   "cell_type": "markdown",
   "metadata": {},
   "source": [
    "У него есть асконы, тело и дендриты. (бла-бла).\n",
    "Но наш будет чуток попроще."
   ]
  },
  {
   "cell_type": "markdown",
   "metadata": {},
   "source": [
    "![тут должна была быть картинка с нейроном, но что-то пошло не так](http://concepture.club/common/uploads/articles_gallery/501/1489768906.png \"ещё нейрон\")"
   ]
  },
  {
   "cell_type": "markdown",
   "metadata": {},
   "source": [
    "Чтож, давайте научем кампухтер отличать цифру 5 от остальных"
   ]
  },
  {
   "cell_type": "markdown",
   "metadata": {},
   "source": [
    "мы будем ползоваться активационной функцией v > BIAS, причём я тоталитарно объявляю BIAS равным семи"
   ]
  },
  {
   "cell_type": "code",
   "execution_count": 1,
   "metadata": {},
   "outputs": [],
   "source": [
    "BIAS = 7"
   ]
  },
  {
   "cell_type": "markdown",
   "metadata": {},
   "source": [
    "я тут приготовил немного данных для нашей перцептронки:"
   ]
  },
  {
   "cell_type": "code",
   "execution_count": 2,
   "metadata": {},
   "outputs": [],
   "source": [
    "from prepared import printWeights, printNums, printNum\n",
    "from prepared import train_nums, defected_fives\n",
    "from prepared import sample_good_weight, sample_middle_weight, sample_bad_weight"
   ]
  },
  {
   "cell_type": "markdown",
   "metadata": {},
   "source": [
    "10 цифр:"
   ]
  },
  {
   "cell_type": "code",
   "execution_count": 3,
   "metadata": {},
   "outputs": [
    {
     "name": "stdout",
     "output_type": "stream",
     "text": [
      "0 ) [1, 1, 1, 1, 0, 1, 1, 0, 1, 1, 0, 1, 1, 1, 1]\n",
      "1 ) [0, 0, 1, 0, 0, 1, 0, 0, 1, 0, 0, 1, 0, 0, 1]\n",
      "2 ) [1, 1, 1, 0, 0, 1, 1, 1, 1, 1, 0, 0, 1, 1, 1]\n",
      "3 ) [1, 1, 1, 0, 0, 1, 1, 1, 1, 0, 0, 1, 1, 1, 1]\n",
      "4 ) [1, 0, 1, 1, 0, 1, 1, 1, 1, 0, 0, 1, 0, 0, 1]\n",
      "5 ) [1, 1, 1, 1, 0, 0, 1, 1, 1, 0, 0, 1, 1, 1, 1]\n",
      "6 ) [1, 1, 1, 1, 0, 0, 1, 1, 1, 1, 0, 1, 1, 1, 1]\n",
      "7 ) [1, 1, 1, 0, 0, 1, 0, 0, 1, 0, 0, 1, 0, 0, 1]\n",
      "8 ) [1, 1, 1, 1, 0, 1, 1, 1, 1, 1, 0, 1, 1, 1, 1]\n",
      "9 ) [1, 1, 1, 1, 0, 1, 1, 1, 1, 0, 0, 1, 1, 1, 1]\n",
      "\n",
      "а на картинке выглядит вот-так:\n"
     ]
    },
    {
     "data": {
      "image/png": "[encoded data removed]",
      "text/plain": [
       "<Figure size 432x288 with 1 Axes>"
      ]
     },
     "metadata": {
      "needs_background": "light"
     },
     "output_type": "display_data"
    }
   ],
   "source": [
    "for i in range(len(train_nums)):\n",
    "    print(i,')',train_nums[i])\n",
    "print()\n",
    "print('а на картинке выглядит вот-так:')\n",
    "printNums(train_nums)"
   ]
  },
  {
   "cell_type": "markdown",
   "metadata": {},
   "source": [
    "и чуток битых пятёрок:"
   ]
  },
  {
   "cell_type": "code",
   "execution_count": 4,
   "metadata": {},
   "outputs": [
    {
     "name": "stdout",
     "output_type": "stream",
     "text": [
      "0 ) [1, 1, 1, 1, 0, 0, 1, 1, 1, 0, 0, 0, 1, 1, 1]\n",
      "1 ) [1, 1, 1, 1, 0, 0, 0, 1, 0, 0, 0, 1, 1, 1, 1]\n",
      "2 ) [1, 1, 1, 1, 0, 0, 0, 1, 1, 0, 0, 1, 1, 1, 1]\n",
      "3 ) [1, 1, 0, 1, 0, 0, 1, 1, 1, 0, 0, 1, 1, 1, 1]\n",
      "4 ) [1, 1, 0, 1, 0, 0, 1, 1, 1, 0, 0, 1, 0, 1, 1]\n",
      "5 ) [1, 1, 1, 1, 0, 0, 1, 0, 1, 0, 0, 1, 1, 1, 1]\n",
      "\n",
      "а на картинке выглядит вот-так:\n"
     ]
    },
    {
     "data": {
      "image/png": "[encoded data removed]",
      "text/plain": [
       "<Figure size 432x288 with 1 Axes>"
      ]
     },
     "metadata": {
      "needs_background": "light"
     },
     "output_type": "display_data"
    }
   ],
   "source": [
    "for i in range(len(defected_fives)):\n",
    "    print(i,')',defected_fives[i])\n",
    "print()\n",
    "print('а на картинке выглядит вот-так:')\n",
    "printNums(defected_fives)"
   ]
  },
  {
   "cell_type": "markdown",
   "metadata": {},
   "source": [
    "интуитивно мы ожидаем, что мы получим карту весов, похожую на пятёрку, но на самом деле, это не так (и мы обязательно потом это проверим)"
   ]
  },
  {
   "cell_type": "code",
   "execution_count": 5,
   "metadata": {
    "scrolled": true
   },
   "outputs": [
    {
     "data": {
      "image/png": "[encoded data removed]",
      "text/plain": [
       "<Figure size 432x288 with 2 Axes>"
      ]
     },
     "metadata": {
      "needs_background": "light"
     },
     "output_type": "display_data"
    }
   ],
   "source": [
    "printWeights(sample_bad_weight, 'плохой пример')"
   ]
  },
  {
   "cell_type": "markdown",
   "metadata": {},
   "source": [
    "для начала давайте напишем функцию -- предсказатель: она получает на вход веса и число на проверку а на выходе выдаёт вердикт: \"пятёрка ли число?\" (естественно в True / False формате)"
   ]
  },
  {
   "cell_type": "code",
   "execution_count": null,
   "metadata": {},
   "outputs": [],
   "source": [
    "def predict(w, x):\n",
    "    v = 0\n",
    "    \n",
    "    #надо положить в v взвешенную сумму входов\n",
    "    \n",
    "    return v > BIAS # акивационную функцию я уж за вас написал, уж не обессудьте"
   ]
  },
  {
   "cell_type": "markdown",
   "metadata": {},
   "source": [
    "давайте сразу проверим нашу функцию, грабительски позаимствовав пример хороших весов из моих закромов:"
   ]
  },
  {
   "cell_type": "code",
   "execution_count": null,
   "metadata": {},
   "outputs": [],
   "source": [
    "for i in range(10):\n",
    "    print(i,'is 5 --', predict(sample_good_weight, train_nums[i]))"
   ]
  },
  {
   "cell_type": "markdown",
   "metadata": {},
   "source": [
    "проконтролируем, что \"True\" находится только напротив утверждения \"5 is 5\". И если так, то мы классные и идём дальше."
   ]
  },
  {
   "cell_type": "markdown",
   "metadata": {},
   "source": [
    "Кстати говоря, выяснить почему тот вес, который я чуть выше назвал \"интуитиво ожидаемым но плохим\", действительно плохой мы можем уже сейчас. Давайте просто выведем все числа, коорые с этими весами будут приняты за пятёрку:"
   ]
  },
  {
   "cell_type": "code",
   "execution_count": null,
   "metadata": {},
   "outputs": [],
   "source": [
    "for i in range(10):\n",
    "    if predict(sample_bad_weight, train_nums[i]):\n",
    "        printNum(train_nums[i], i)"
   ]
  },
  {
   "cell_type": "markdown",
   "metadata": {},
   "source": [
    "многовато лишнего, не правда ли?"
   ]
  },
  {
   "cell_type": "markdown",
   "metadata": {},
   "source": [
    "До сих пор было не совсем понятно, откуда берутся веса, чтож...\n",
    "\n",
    "Функция тренировки получает на вход старые веса, число для тренировки, и результат который мы хотим достичь для этого числа.\n",
    "Она должна проверить получается ли верный ответ при использовании старых весов (не без помощи функции predict), и если не поучается, взять и покарать их!\n",
    "Кого \"их\"? Те веса, которые повлияли на ответ в той мере, в которой они повлияли на ответ. Варианты определения меры наказания бывают различны, но мы будем сегодня пользоваться\n",
    "`w[i] = w[i] + (то_значение_которе_хотели - то_значение_которе_получили) * x[i]`\n",
    "\n",
    "Ну и наконец, как в случае, если мы меняли веса, так в случае, если не меняли, мы должны вернуть те веса, которые теперь считаем верными"
   ]
  },
  {
   "cell_type": "code",
   "execution_count": null,
   "metadata": {},
   "outputs": [],
   "source": [
    "def fit(w, x, target_ans):\n",
    "    \n",
    "    # за учёбу!\n",
    "    \n",
    "    \n",
    "    return w  # и результат работы не забываем миру демонстровать"
   ]
  },
  {
   "cell_type": "markdown",
   "metadata": {},
   "source": [
    "на эту функцию хорошего теста я не придумал, так что пока поверю вам на слово"
   ]
  },
  {
   "cell_type": "markdown",
   "metadata": {},
   "source": [
    "теперь давайте напишем функцию, обучающую наш нейрон с нуля"
   ]
  },
  {
   "cell_type": "markdown",
   "metadata": {},
   "source": [
    "эта функция в начале создаёт список весов, и затем, до тех пор пока нейрон не научится правильно делать предсказание (при помощи функции predict) на обучающей выборке (в нашем случае это train_nums)"
   ]
  },
  {
   "cell_type": "markdown",
   "metadata": {},
   "source": [
    "но, для того, чтобы слегка упростить себе задачу, давайте отдельно напишем функцию, которая определяет, делает ли нейрон верное предсказание на всей выборке. для этого для всех десяти цифр `i` мы должны удостоверится, что `predict(w, train_nums[i])` соответствует значению `i == 5`"
   ]
  },
  {
   "cell_type": "code",
   "execution_count": null,
   "metadata": {},
   "outputs": [],
   "source": [
    "def allTrainRight(w):\n",
    "    # я собсна всё уже изложил: дерзаем"
   ]
  },
  {
   "cell_type": "markdown",
   "metadata": {},
   "source": [
    "для тестирования этой функции, воспользуемся нашим старыми знакомыми -- хорошим и плохим примером:"
   ]
  },
  {
   "cell_type": "code",
   "execution_count": null,
   "metadata": {},
   "outputs": [],
   "source": [
    "if allTrainRight(sample_good_weight) and not allTrainRight(sample_bad_weight):\n",
    "    print('функция и вправду работает правдоподобно')\n",
    "else:\n",
    "    print('эээ нет, тут что-то не так')"
   ]
  },
  {
   "cell_type": "markdown",
   "metadata": {},
   "source": [
    "теперь займёмся наконец функцией обучения, только сначала, я импортирую функцию randint:\n",
    "`randint(0, 9)` -- один из немногих способов ~~сделать мир лучше~~ получить случайное число от одного до девяти"
   ]
  },
  {
   "cell_type": "code",
   "execution_count": 7,
   "metadata": {},
   "outputs": [],
   "source": [
    "from random import randint"
   ]
  },
  {
   "cell_type": "markdown",
   "metadata": {},
   "source": [
    "просто давайте посмотрим на то, правда ли он выдаёт цифры"
   ]
  },
  {
   "cell_type": "code",
   "execution_count": 8,
   "metadata": {},
   "outputs": [
    {
     "name": "stdout",
     "output_type": "stream",
     "text": [
      "1 9 7 7 4 3 1 3 2 9 8 3 6 9 7 4 4 1 7 7 7 9 4 3 4 1 4 9 8 7 3 9 7 2 4 4 9 2 0 1 4 1 1 7 1 6 7 8 6 3 "
     ]
    }
   ],
   "source": [
    "for i in range(50):\n",
    "    print(randint(0,9), end=' ')"
   ]
  },
  {
   "cell_type": "markdown",
   "metadata": {},
   "source": [
    "теперь точно всё, но на всякий случай напомню основные моменты:\n",
    "* создаём список свежих весов `w`\n",
    "* цикл\n",
    "    * пока не `allTrainRight`\n",
    "    * создаём случайное число `curr`\n",
    "    * `w = fit(w, train_nums[curr], curr == 5)`\n",
    "    * при желании можно вывести `w` на экран\n",
    "* возвращаем `w`"
   ]
  },
  {
   "cell_type": "code",
   "execution_count": null,
   "metadata": {},
   "outputs": [],
   "source": [
    "def cram():\n",
    "    w = [0] * len(train_nums[0])\n",
    "    \n",
    "    # здесь должен был быть цикл, но враги ограбили(...\n",
    "  \n",
    "    return w"
   ]
  },
  {
   "cell_type": "markdown",
   "metadata": {},
   "source": [
    "чтож...  тест тут только один"
   ]
  },
  {
   "cell_type": "code",
   "execution_count": null,
   "metadata": {},
   "outputs": [],
   "source": [
    "your_first_neuron = cram()"
   ]
  },
  {
   "cell_type": "markdown",
   "metadata": {},
   "source": [
    "на случай ошибок или долгого зависания, напомню, что мы тестируем здесь не только функцию `cram` но и `fit` и возможно ошибка в ней"
   ]
  },
  {
   "cell_type": "markdown",
   "metadata": {},
   "source": [
    "итак, наш первый нейрон готов, давайте выведем его веса и нарисуем его карту"
   ]
  },
  {
   "cell_type": "code",
   "execution_count": null,
   "metadata": {},
   "outputs": [],
   "source": [
    "printWeights(your_first_neuron)\n",
    "print(your_first_neuron)"
   ]
  },
  {
   "cell_type": "markdown",
   "metadata": {},
   "source": [
    "он, прямо как тот эталонный нейрон из закромов абсолютно точно правильно отрабатывает на всей обучающей выборке:"
   ]
  },
  {
   "cell_type": "code",
   "execution_count": null,
   "metadata": {},
   "outputs": [],
   "source": [
    "for i in range(10):\n",
    "    print(i,'is 5 --', predict(your_first_neuron, train_nums[i]))"
   ]
  },
  {
   "cell_type": "markdown",
   "metadata": {},
   "source": [
    "Но помните, я ещё импортировал набор битых пятёрок?\n",
    "Я вот помню."
   ]
  },
  {
   "cell_type": "code",
   "execution_count": 6,
   "metadata": {},
   "outputs": [
    {
     "data": {
      "image/png": "[encoded data removed]",
      "text/plain": [
       "<Figure size 432x288 with 1 Axes>"
      ]
     },
     "metadata": {
      "needs_background": "light"
     },
     "output_type": "display_data"
    }
   ],
   "source": [
    "printNums(defected_fives)"
   ]
  },
  {
   "cell_type": "markdown",
   "metadata": {},
   "source": [
    "когда наш нейрон учился, он в глаза не видел этих монстров, но давайте проверим, признает в них пятёрки?"
   ]
  },
  {
   "cell_type": "code",
   "execution_count": null,
   "metadata": {},
   "outputs": [],
   "source": [
    "for i in range(len(defected_fives)):\n",
    "    print(predict(your_first_neuron, defected_fives[i]))"
   ]
  },
  {
   "cell_type": "markdown",
   "metadata": {},
   "source": [
    "Если только что мы получили столбец из `True`, то поздравляю: эта нейронка сходу обладает обобщательной способностю, если же нет, то в этом нет ниьчьей вины: так иногда случается. "
   ]
  },
  {
   "cell_type": "markdown",
   "metadata": {},
   "source": [
    "У меня в закромах есть такой и такой нейрон"
   ]
  },
  {
   "cell_type": "code",
   "execution_count": null,
   "metadata": {},
   "outputs": [],
   "source": [
    "print('на обучающей выборке он:', allTrainRight(sample_middle_weight))\n",
    "print()\n",
    "print('а на тестовой:')\n",
    "for i in range(len(defected_fives)):\n",
    "    print('\\t\\t',predict(sample_middle_weight, defected_fives[i]))"
   ]
  },
  {
   "cell_type": "markdown",
   "metadata": {},
   "source": [
    "в качестве завершения, хочу предложить вам написать функцию, которая вызывает `cram` до тех пор, пока её результат не пройдёт проверку на тестовой выборке"
   ]
  },
  {
   "cell_type": "code",
   "execution_count": null,
   "metadata": {},
   "outputs": [],
   "source": [
    "# тут уж без подсказок"
   ]
  }
 ],
 "metadata": {
  "kernelspec": {
   "display_name": "Python 3",
   "language": "python",
   "name": "python3"
  },
  "language_info": {
   "codemirror_mode": {
    "name": "ipython",
    "version": 3
   },
   "file_extension": ".py",
   "mimetype": "text/x-python",
   "name": "python",
   "nbconvert_exporter": "python",
   "pygments_lexer": "ipython3",
   "version": "3.7.3"
  }
 },
 "nbformat": 4,
 "nbformat_minor": 2
}
